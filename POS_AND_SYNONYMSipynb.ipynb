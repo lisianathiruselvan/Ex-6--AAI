{
  "nbformat": 4,
  "nbformat_minor": 0,
  "metadata": {
    "colab": {
      "provenance": []
    },
    "kernelspec": {
      "name": "python3",
      "display_name": "Python 3"
    },
    "language_info": {
      "name": "python"
    }
  },
  "cells": [
    {
      "cell_type": "markdown",
      "source": [
        "NAME:LISIANA T\n",
        "\n",
        "REG NO:21222224005"
      ],
      "metadata": {
        "id": "DSh97vllnZD5"
      }
    },
    {
      "cell_type": "code",
      "source": [
        "!pip install nltk"
      ],
      "metadata": {
        "id": "YNPAqXna_kwv",
        "colab": {
          "base_uri": "https://localhost:8080/"
        },
        "outputId": "b8072cc7-0406-4835-a88f-995c88c412b2"
      },
      "execution_count": 1,
      "outputs": [
        {
          "output_type": "stream",
          "name": "stdout",
          "text": [
            "Requirement already satisfied: nltk in /usr/local/lib/python3.11/dist-packages (3.9.1)\n",
            "Requirement already satisfied: click in /usr/local/lib/python3.11/dist-packages (from nltk) (8.2.0)\n",
            "Requirement already satisfied: joblib in /usr/local/lib/python3.11/dist-packages (from nltk) (1.5.0)\n",
            "Requirement already satisfied: regex>=2021.8.3 in /usr/local/lib/python3.11/dist-packages (from nltk) (2024.11.6)\n",
            "Requirement already satisfied: tqdm in /usr/local/lib/python3.11/dist-packages (from nltk) (4.67.1)\n"
          ]
        }
      ]
    },
    {
      "cell_type": "code",
      "execution_count": 2,
      "metadata": {
        "id": "gnElb6H0_Xj3",
        "colab": {
          "base_uri": "https://localhost:8080/"
        },
        "outputId": "3ec23d1a-9e9d-48f0-9849-e4a195060c4a"
      },
      "outputs": [
        {
          "output_type": "stream",
          "name": "stderr",
          "text": [
            "[nltk_data] Downloading package punkt_tab to /root/nltk_data...\n",
            "[nltk_data]   Unzipping tokenizers/punkt_tab.zip.\n",
            "[nltk_data] Downloading package wordnet to /root/nltk_data...\n",
            "[nltk_data] Downloading package averaged_perceptron_tagger_eng to\n",
            "[nltk_data]     /root/nltk_data...\n",
            "[nltk_data]   Unzipping taggers/averaged_perceptron_tagger_eng.zip.\n"
          ]
        },
        {
          "output_type": "execute_result",
          "data": {
            "text/plain": [
              "True"
            ]
          },
          "metadata": {},
          "execution_count": 2
        }
      ],
      "source": [
        "import nltk\n",
        "#import wordnet\n",
        "nltk.download( 'punkt_tab' )\n",
        "nltk.download('wordnet')\n",
        "from nltk.tokenize import word_tokenize\n",
        "nltk.download( 'averaged_perceptron_tagger_eng' )"
      ]
    },
    {
      "cell_type": "code",
      "source": [
        "sentence=input ()"
      ],
      "metadata": {
        "id": "iDJQ6OJFMZRn",
        "colab": {
          "base_uri": "https://localhost:8080/"
        },
        "outputId": "c9d6e6b0-f7da-4049-dd2a-ff4b19f0c2c6"
      },
      "execution_count": 9,
      "outputs": [
        {
          "name": "stdout",
          "output_type": "stream",
          "text": [
            "lisiana is a Queen, ready to rule the world\n"
          ]
        }
      ]
    },
    {
      "cell_type": "code",
      "source": [
        "# Print the parts of speech\n",
        "for word, tag in pos_tags:\n",
        "    print(word, tag)"
      ],
      "metadata": {
        "colab": {
          "base_uri": "https://localhost:8080/"
        },
        "id": "wRqZaAF6ARrL",
        "outputId": "de5f5e58-2026-454f-e037-bb66dad78101"
      },
      "execution_count": 11,
      "outputs": [
        {
          "output_type": "stream",
          "name": "stdout",
          "text": [
            "lisiana NN\n",
            "is VBZ\n",
            "a DT\n",
            "girl NN\n"
          ]
        }
      ]
    },
    {
      "cell_type": "code",
      "source": [
        "# Tokenize the sentence into words\n",
        "words = word_tokenize(sentence)\n",
        "# Identify the parts of speech for each word\n",
        "pos_tags= nltk.pos_tag(words)"
      ],
      "metadata": {
        "id": "4DM8gOaiAHQx"
      },
      "execution_count": 12,
      "outputs": []
    },
    {
      "cell_type": "code",
      "source": [
        "from nltk.corpus import wordnet\n",
        "\n",
        "# Identify synonyms and antonyms for each word\n",
        "synonyms =[]\n",
        "antonyms =[]\n",
        "for word in words:\n",
        "\tfor syn in wordnet.synsets(word) :\n",
        "\t\tfor lemma in syn.lemmas():\n",
        "\t\t\tsynonyms . append (lemma . name( ) )\n",
        "\t\t\tif lemma . antonyms():\n",
        "\t\t\t\tantonyms . append ( lemma. antonyms ( ) [0] . name ( ) )\n",
        "# Print the synonyms and antonyms\n",
        "print ( \"Synonyms : \" ,set (synonyms) )\n",
        "print ( \"Antonyms : \" ,set(antonyms) )"
      ],
      "metadata": {
        "colab": {
          "base_uri": "https://localhost:8080/"
        },
        "id": "HEavtnMUAToR",
        "outputId": "9df4a752-5c36-40be-c4a3-594db64185c2"
      },
      "execution_count": 13,
      "outputs": [
        {
          "output_type": "stream",
          "name": "stdout",
          "text": [
            "Synonyms :  {'deoxyadenosine_monophosphate', 'formula', 'prescript', 'king', 'quick', 'prevail', 'queen_mole_rat', 'populace', 'tabby', 'make_up', 'be', 'rein', 'dominate', 'ready', 'female_monarch', 'adenine', 'a', 'regulation', 'principle', 'follow', 'queen', 'govern', 'angstrom_unit', 'macrocosm', 'world', 'cosmos', 'domain', 'public', 'worldwide', 'Earth', 'ruler', 'angstrom', 'earthly_concern', 'cook', 'antiophthalmic_factor', 'exist', 'ampere', 'predominate', 'pansy', 'earth', 'existence', 'fairy', 'creation', 'world-wide', 'faggot', 'A', 'dominion', 'human_beings', 'convention', 'make', 'nance', 'fix', 'fagot', 'mankind', 'global', 'constitute', 'linguistic_rule', 'poove', 'normal', 'amp', 'represent', 'prepare', 'queer', 'harness', 'find', 'humans', 'human_race', 'fag', 'personify', 'worldly_concern', 'reign', 'type_A', 'humankind', 'vitamin_A', 'reality', 'pattern', 'comprise', 'axerophthol', 'pouf', 'man', 'gear_up', 'equal', 'poof', 'world-beater', 'cost', 'humanity', 'live', 'queen_regnant', 'globe', 'universe', 'rule', 'embody', 'group_A', 'set', 'planetary', 'set_up', 'decree'}\n",
            "Antonyms :  {'king', 'differ', 'unready', 'male_monarch'}\n"
          ]
        }
      ]
    },
    {
      "cell_type": "code",
      "source": [],
      "metadata": {
        "id": "Kd_97SRFAgaj"
      },
      "execution_count": null,
      "outputs": []
    },
    {
      "cell_type": "code",
      "source": [],
      "metadata": {
        "id": "8bX8Og3WAbBg"
      },
      "execution_count": null,
      "outputs": []
    }
  ]
}